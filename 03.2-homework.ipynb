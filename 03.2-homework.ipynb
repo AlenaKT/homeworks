{
 "cells": [
  {
   "cell_type": "code",
   "execution_count": 1,
   "id": "d4747d7f",
   "metadata": {},
   "outputs": [],
   "source": [
    "import pandas as pd\n",
    "import numpy as np\n",
    "import matplotlib as plt\n",
    "import seaborn as sns"
   ]
  },
  {
   "cell_type": "markdown",
   "id": "991f0f10",
   "metadata": {},
   "source": [
    "# Easy\n",
    "\n",
    "Скачать данные отсюда (кнопка download all снизу): https://www.kaggle.com/c/titanic/data Это данные о пассажирах Титаника и информация о том, кто выжил, а кто нет. Будем анализировать файл train.csv.\n",
    "\n",
    "Необходимо прочитать файл\n"
   ]
  },
  {
   "cell_type": "code",
   "execution_count": 2,
   "id": "24900412",
   "metadata": {},
   "outputs": [],
   "source": [
    "df = pd.read_csv(r'C:\\Users\\marti\\Desktop\\Домашки\\train.csv')"
   ]
  },
  {
   "cell_type": "code",
   "execution_count": 3,
   "id": "ebed96c3",
   "metadata": {},
   "outputs": [
    {
     "data": {
      "text/html": [
       "<div>\n",
       "<style scoped>\n",
       "    .dataframe tbody tr th:only-of-type {\n",
       "        vertical-align: middle;\n",
       "    }\n",
       "\n",
       "    .dataframe tbody tr th {\n",
       "        vertical-align: top;\n",
       "    }\n",
       "\n",
       "    .dataframe thead th {\n",
       "        text-align: right;\n",
       "    }\n",
       "</style>\n",
       "<table border=\"1\" class=\"dataframe\">\n",
       "  <thead>\n",
       "    <tr style=\"text-align: right;\">\n",
       "      <th></th>\n",
       "      <th>PassengerId</th>\n",
       "      <th>Survived</th>\n",
       "      <th>Pclass</th>\n",
       "      <th>Name</th>\n",
       "      <th>Sex</th>\n",
       "      <th>Age</th>\n",
       "      <th>SibSp</th>\n",
       "      <th>Parch</th>\n",
       "      <th>Ticket</th>\n",
       "      <th>Fare</th>\n",
       "      <th>Cabin</th>\n",
       "      <th>Embarked</th>\n",
       "    </tr>\n",
       "  </thead>\n",
       "  <tbody>\n",
       "    <tr>\n",
       "      <th>0</th>\n",
       "      <td>1</td>\n",
       "      <td>0</td>\n",
       "      <td>3</td>\n",
       "      <td>Braund, Mr. Owen Harris</td>\n",
       "      <td>male</td>\n",
       "      <td>22.0</td>\n",
       "      <td>1</td>\n",
       "      <td>0</td>\n",
       "      <td>A/5 21171</td>\n",
       "      <td>7.2500</td>\n",
       "      <td>NaN</td>\n",
       "      <td>S</td>\n",
       "    </tr>\n",
       "    <tr>\n",
       "      <th>1</th>\n",
       "      <td>2</td>\n",
       "      <td>1</td>\n",
       "      <td>1</td>\n",
       "      <td>Cumings, Mrs. John Bradley (Florence Briggs Th...</td>\n",
       "      <td>female</td>\n",
       "      <td>38.0</td>\n",
       "      <td>1</td>\n",
       "      <td>0</td>\n",
       "      <td>PC 17599</td>\n",
       "      <td>71.2833</td>\n",
       "      <td>C85</td>\n",
       "      <td>C</td>\n",
       "    </tr>\n",
       "    <tr>\n",
       "      <th>2</th>\n",
       "      <td>3</td>\n",
       "      <td>1</td>\n",
       "      <td>3</td>\n",
       "      <td>Heikkinen, Miss. Laina</td>\n",
       "      <td>female</td>\n",
       "      <td>26.0</td>\n",
       "      <td>0</td>\n",
       "      <td>0</td>\n",
       "      <td>STON/O2. 3101282</td>\n",
       "      <td>7.9250</td>\n",
       "      <td>NaN</td>\n",
       "      <td>S</td>\n",
       "    </tr>\n",
       "    <tr>\n",
       "      <th>3</th>\n",
       "      <td>4</td>\n",
       "      <td>1</td>\n",
       "      <td>1</td>\n",
       "      <td>Futrelle, Mrs. Jacques Heath (Lily May Peel)</td>\n",
       "      <td>female</td>\n",
       "      <td>35.0</td>\n",
       "      <td>1</td>\n",
       "      <td>0</td>\n",
       "      <td>113803</td>\n",
       "      <td>53.1000</td>\n",
       "      <td>C123</td>\n",
       "      <td>S</td>\n",
       "    </tr>\n",
       "    <tr>\n",
       "      <th>4</th>\n",
       "      <td>5</td>\n",
       "      <td>0</td>\n",
       "      <td>3</td>\n",
       "      <td>Allen, Mr. William Henry</td>\n",
       "      <td>male</td>\n",
       "      <td>35.0</td>\n",
       "      <td>0</td>\n",
       "      <td>0</td>\n",
       "      <td>373450</td>\n",
       "      <td>8.0500</td>\n",
       "      <td>NaN</td>\n",
       "      <td>S</td>\n",
       "    </tr>\n",
       "  </tbody>\n",
       "</table>\n",
       "</div>"
      ],
      "text/plain": [
       "   PassengerId  Survived  Pclass  \\\n",
       "0            1         0       3   \n",
       "1            2         1       1   \n",
       "2            3         1       3   \n",
       "3            4         1       1   \n",
       "4            5         0       3   \n",
       "\n",
       "                                                Name     Sex   Age  SibSp  \\\n",
       "0                            Braund, Mr. Owen Harris    male  22.0      1   \n",
       "1  Cumings, Mrs. John Bradley (Florence Briggs Th...  female  38.0      1   \n",
       "2                             Heikkinen, Miss. Laina  female  26.0      0   \n",
       "3       Futrelle, Mrs. Jacques Heath (Lily May Peel)  female  35.0      1   \n",
       "4                           Allen, Mr. William Henry    male  35.0      0   \n",
       "\n",
       "   Parch            Ticket     Fare Cabin Embarked  \n",
       "0      0         A/5 21171   7.2500   NaN        S  \n",
       "1      0          PC 17599  71.2833   C85        C  \n",
       "2      0  STON/O2. 3101282   7.9250   NaN        S  \n",
       "3      0            113803  53.1000  C123        S  \n",
       "4      0            373450   8.0500   NaN        S  "
      ]
     },
     "execution_count": 3,
     "metadata": {},
     "output_type": "execute_result"
    }
   ],
   "source": [
    "df.head()"
   ]
  },
  {
   "cell_type": "markdown",
   "id": "18007baa",
   "metadata": {},
   "source": [
    "Посчитать процент детей (младше 18 лет)"
   ]
  },
  {
   "cell_type": "code",
   "execution_count": 4,
   "id": "5067200a",
   "metadata": {},
   "outputs": [
    {
     "data": {
      "text/plain": [
       "12.682379349046016"
      ]
     },
     "execution_count": 4,
     "metadata": {},
     "output_type": "execute_result"
    }
   ],
   "source": [
    "df[df['Age'] < 18].count()['PassengerId'] / len(df.index) * 100"
   ]
  },
  {
   "cell_type": "markdown",
   "id": "fd3d4321",
   "metadata": {},
   "source": [
    "Соотношение мужчин/женщин на борту"
   ]
  },
  {
   "cell_type": "code",
   "execution_count": 5,
   "id": "7db1d7eb",
   "metadata": {},
   "outputs": [
    {
     "data": {
      "text/plain": [
       "1.8375796178343948"
      ]
     },
     "execution_count": 5,
     "metadata": {},
     "output_type": "execute_result"
    }
   ],
   "source": [
    "df[df['Sex'] == 'male'].count()['PassengerId'] / df[df['Sex'] == 'female'].count()['PassengerId']"
   ]
  },
  {
   "cell_type": "markdown",
   "id": "c1511e6e",
   "metadata": {},
   "source": [
    "# Normal\n",
    "\n",
    "Посчитать по скольким людям нет информации (пола или возраста)"
   ]
  },
  {
   "cell_type": "code",
   "execution_count": 6,
   "id": "f9ef2a85",
   "metadata": {},
   "outputs": [
    {
     "data": {
      "text/plain": [
       "Sex      0\n",
       "Age    177\n",
       "dtype: int64"
      ]
     },
     "execution_count": 6,
     "metadata": {},
     "output_type": "execute_result"
    }
   ],
   "source": [
    "df[['Sex', 'Age']].isnull().sum(axis = 0)"
   ]
  },
  {
   "cell_type": "markdown",
   "id": "f71c9bda",
   "metadata": {},
   "source": [
    "Вывести гистограмму по возрасту пассажиров"
   ]
  },
  {
   "cell_type": "code",
   "execution_count": 7,
   "id": "25de32c8",
   "metadata": {},
   "outputs": [
    {
     "data": {
      "text/plain": [
       "<AxesSubplot:xlabel='Age', ylabel='Count'>"
      ]
     },
     "execution_count": 7,
     "metadata": {},
     "output_type": "execute_result"
    },
    {
     "data": {
      "image/png": "[encoded data removed]",
      "text/plain": [
       "<Figure size 640x480 with 1 Axes>"
      ]
     },
     "metadata": {},
     "output_type": "display_data"
    }
   ],
   "source": [
    "sns.histplot(df['Age'], binwidth=4)"
   ]
  },
  {
   "cell_type": "markdown",
   "id": "ac4d6f69",
   "metadata": {},
   "source": [
    "Посчитать какой процент мужин и женщин выжили, какой процент детей выжили."
   ]
  },
  {
   "cell_type": "code",
   "execution_count": 8,
   "id": "6b545f43",
   "metadata": {},
   "outputs": [
    {
     "data": {
      "text/plain": [
       "17.72151898734177"
      ]
     },
     "execution_count": 8,
     "metadata": {},
     "output_type": "execute_result"
    }
   ],
   "source": [
    "#процент выживших мужчин\n",
    "df[(df.Survived == 1) & (df.Age >= 18) & (df.Sex == 'male')].count()['PassengerId'] / df[(df.Age >= 18) & (df.Sex == 'male')].count()['PassengerId'] * 100"
   ]
  },
  {
   "cell_type": "code",
   "execution_count": 9,
   "id": "e8e3f982",
   "metadata": {},
   "outputs": [
    {
     "data": {
      "text/plain": [
       "77.18446601941747"
      ]
     },
     "execution_count": 9,
     "metadata": {},
     "output_type": "execute_result"
    }
   ],
   "source": [
    "#процент выживших женщин\n",
    "df[(df.Survived == 1) & (df.Age >= 18) & (df.Sex == 'female')].count()['PassengerId'] / df[(df.Age >= 18) & (df.Sex == 'female')].count()['PassengerId'] * 100"
   ]
  },
  {
   "cell_type": "code",
   "execution_count": 10,
   "id": "bccde3e5",
   "metadata": {},
   "outputs": [
    {
     "data": {
      "text/plain": [
       "53.98230088495575"
      ]
     },
     "execution_count": 10,
     "metadata": {},
     "output_type": "execute_result"
    }
   ],
   "source": [
    "#процент выживших детей\n",
    "df[(df.Survived == 1) & (df.Age < 18)].count()['PassengerId'] / df[df['Age'] < 18].count()['PassengerId'] * 100"
   ]
  },
  {
   "cell_type": "markdown",
   "id": "057f9cb0",
   "metadata": {},
   "source": [
    "Посчитать корреляцию между возрастом и выживаемостью, полом и выживаемостью"
   ]
  },
  {
   "cell_type": "code",
   "execution_count": 11,
   "id": "3ed8439e",
   "metadata": {},
   "outputs": [
    {
     "data": {
      "text/plain": [
       "-0.07722109457217764"
      ]
     },
     "execution_count": 11,
     "metadata": {},
     "output_type": "execute_result"
    }
   ],
   "source": [
    "df['Age']. corr(df['Survived'])"
   ]
  },
  {
   "cell_type": "code",
   "execution_count": 12,
   "id": "f080e08b",
   "metadata": {},
   "outputs": [
    {
     "name": "stderr",
     "output_type": "stream",
     "text": [
      "C:\\Users\\marti\\AppData\\Local\\Temp\\ipykernel_9260\\3617100156.py:3: DeprecationWarning: `np.float` is a deprecated alias for the builtin `float`. To silence this warning, use `float` by itself. Doing this will not modify any behavior and is safe. If you specifically wanted the numpy scalar type, use `np.float64` here.\n",
      "Deprecated in NumPy 1.20; for more details and guidance: https://numpy.org/devdocs/release/1.20.0-notes.html#deprecations\n",
      "  df['Sex'] = df['Sex'].astype({'Sex': np.float})\n"
     ]
    }
   ],
   "source": [
    "df.loc[df['Sex'] == 'male', 'Sex'] = 0\n",
    "df.loc[df['Sex'] == 'female', 'Sex'] = 1\n",
    "df['Sex'] = df['Sex'].astype({'Sex': np.float})"
   ]
  },
  {
   "cell_type": "code",
   "execution_count": 13,
   "id": "6e4499a1",
   "metadata": {},
   "outputs": [
    {
     "data": {
      "text/plain": [
       "0.5433513806577551"
      ]
     },
     "execution_count": 13,
     "metadata": {},
     "output_type": "execute_result"
    }
   ],
   "source": [
    "df['Sex'].corr(df['Survived'])"
   ]
  }
 ],
 "metadata": {
  "kernelspec": {
   "display_name": "Python 3 (ipykernel)",
   "language": "python",
   "name": "python3"
  },
  "language_info": {
   "codemirror_mode": {
    "name": "ipython",
    "version": 3
   },
   "file_extension": ".py",
   "mimetype": "text/x-python",
   "name": "python",
   "nbconvert_exporter": "python",
   "pygments_lexer": "ipython3",
   "version": "3.9.13"
  }
 },
 "nbformat": 4,
 "nbformat_minor": 5
}
