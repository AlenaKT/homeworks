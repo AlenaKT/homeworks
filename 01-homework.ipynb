{
 "cells": [
  {
   "cell_type": "markdown",
   "id": "645e1ca2",
   "metadata": {},
   "source": [
    "# Easy\n",
    "Дано пять чисел, каждое число вводится в консоли в отдельной строке. Вывести на экран наименьшее из них"
   ]
  },
  {
   "cell_type": "code",
   "execution_count": null,
   "id": "f14afdc7",
   "metadata": {},
   "outputs": [],
   "source": [
    "a = int(input())\n",
    "b = int(input())\n",
    "c = int(input())\n",
    "d = int(input())\n",
    "e = int(input())"
   ]
  },
  {
   "cell_type": "code",
   "execution_count": null,
   "id": "62370a39",
   "metadata": {},
   "outputs": [],
   "source": [
    "if b > a < c and d > a < e:\n",
    "    print(a)\n",
    "elif a > b < c and d > b < e:\n",
    "    print(b)\n",
    "elif a > c < b and d > c < e:\n",
    "    print(c)\n",
    "elif a > d < b and c > d < e:\n",
    "    print(d)\n",
    "else:\n",
    "    print(e)"
   ]
  }
 ],
 "metadata": {
  "kernelspec": {
   "display_name": "Python 3 (ipykernel)",
   "language": "python",
   "name": "python3"
  },
  "language_info": {
   "codemirror_mode": {
    "name": "ipython",
    "version": 3
   },
   "file_extension": ".py",
   "mimetype": "text/x-python",
   "name": "python",
   "nbconvert_exporter": "python",
   "pygments_lexer": "ipython3",
   "version": "3.9.13"
  }
 },
 "nbformat": 4,
 "nbformat_minor": 5
}
